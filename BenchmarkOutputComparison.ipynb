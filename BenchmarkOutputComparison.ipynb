{
 "cells": [
  {
   "cell_type": "markdown",
   "metadata": {},
   "source": [
    "Output Comparisons"
   ]
  },
  {
   "cell_type": "code",
   "execution_count": 39,
   "metadata": {},
   "outputs": [],
   "source": [
    "import yaml\n",
    "import pandas as pd"
   ]
  },
  {
   "cell_type": "code",
   "execution_count": 40,
   "metadata": {},
   "outputs": [],
   "source": [
    "with open('benchmark_output_final_32_002/goes_benchmark_data_20200122_161337.yml','r') as file:\n",
    "    out32002 = yaml.load(file, Loader=yaml.FullLoader)\n",
    "with open('benchmark_output_final_32_010/goes_benchmark_data_20200122_170257.yml','r') as file:\n",
    "    out32010 = yaml.load(file, Loader=yaml.FullLoader)   \n",
    "with open('benchmark_output_final_64_002/goes_benchmark_data_20200122_161549.yml','r') as file:\n",
    "    out62002 = yaml.load(file, Loader=yaml.FullLoader)\n",
    "with open('benchmark_output_final_64_010/goes_benchmark_data_20200122_170808.yml','r') as file:\n",
    "    out64010 = yaml.load(file, Loader=yaml.FullLoader)"
   ]
  },
  {
   "cell_type": "code",
   "execution_count": 42,
   "metadata": {},
   "outputs": [
    {
     "ename": "NameError",
     "evalue": "name 'gpu_01_training' is not defined",
     "output_type": "error",
     "traceback": [
      "\u001b[0;31m---------------------------------------------------------------------------\u001b[0m",
      "\u001b[0;31mNameError\u001b[0m                                 Traceback (most recent call last)",
      "\u001b[0;32m<ipython-input-42-09760668b0de>\u001b[0m in \u001b[0;36m<module>\u001b[0;34m\u001b[0m\n\u001b[0;32m----> 1\u001b[0;31m \u001b[0mout32002training\u001b[0m \u001b[0;34m=\u001b[0m \u001b[0mout32002\u001b[0m\u001b[0;34m[\u001b[0m\u001b[0mgpu_01_training\u001b[0m\u001b[0;34m]\u001b[0m\u001b[0;34m\u001b[0m\u001b[0;34m\u001b[0m\u001b[0m\n\u001b[0m\u001b[1;32m      2\u001b[0m \u001b[0mprint\u001b[0m\u001b[0;34m(\u001b[0m\u001b[0mout32002training\u001b[0m\u001b[0;34m)\u001b[0m\u001b[0;34m\u001b[0m\u001b[0;34m\u001b[0m\u001b[0m\n",
      "\u001b[0;31mNameError\u001b[0m: name 'gpu_01_training' is not defined"
     ]
    }
   ],
   "source": [
    "out32002training = out32002[gpu_01_training]\n",
    "print(out32002training)"
   ]
  },
  {
   "cell_type": "code",
   "execution_count": null,
   "metadata": {},
   "outputs": [],
   "source": []
  },
  {
   "cell_type": "code",
   "execution_count": null,
   "metadata": {},
   "outputs": [],
   "source": []
  }
 ],
 "metadata": {
  "kernelspec": {
   "display_name": "Python 3",
   "language": "python",
   "name": "python3"
  },
  "language_info": {
   "codemirror_mode": {
    "name": "ipython",
    "version": 3
   },
   "file_extension": ".py",
   "mimetype": "text/x-python",
   "name": "python",
   "nbconvert_exporter": "python",
   "pygments_lexer": "ipython3",
   "version": "3.7.3"
  }
 },
 "nbformat": 4,
 "nbformat_minor": 4
}
