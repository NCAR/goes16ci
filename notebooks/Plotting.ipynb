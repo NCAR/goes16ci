{
 "cells": [
  {
   "cell_type": "code",
   "execution_count": 70,
   "metadata": {},
   "outputs": [],
   "source": [
    "%matplotlib inline\n",
    "import numpy as np\n",
    "import pandas as pd\n",
    "import matplotlib.pyplot as plt\n",
    "import xarray as xr\n",
    "import cartopy.crs as ccrs\n",
    "import cartopy.feature as cfeature\n",
    "from glob import glob\n",
    "from os.path import join, exists\n",
    "from datetime import datetime\n",
    "from pyproj import Proj"
   ]
  },
  {
   "cell_type": "code",
   "execution_count": 19,
   "metadata": {},
   "outputs": [],
   "source": [
    "goes_path = sorted(glob(\"/glade/p/cisl/aiml/dgagne/goes16_nc/ABI-L1b_conus/20180401/*.nc\"))"
   ]
  },
  {
   "cell_type": "code",
   "execution_count": 26,
   "metadata": {},
   "outputs": [
    {
     "data": {
      "text/plain": [
       "'/glade/p/cisl/aiml/dgagne/goes16_nc/ABI-L1b_conus/20180401/OR_ABI-L1b-RadC-M3C01_G16_s20180910032195_e20180910034568_c20180910035022.nc'"
      ]
     },
     "execution_count": 26,
     "metadata": {},
     "output_type": "execute_result"
    }
   ],
   "source": [
    "goes_path[5]"
   ]
  },
  {
   "cell_type": "code",
   "execution_count": 30,
   "metadata": {},
   "outputs": [
    {
     "name": "stdout",
     "output_type": "stream",
     "text": [
      "20180910030011\n"
     ]
    },
    {
     "data": {
      "text/plain": [
       "datetime.datetime(2018, 4, 1, 0, 30, 1, 100000)"
      ]
     },
     "execution_count": 30,
     "metadata": {},
     "output_type": "execute_result"
    }
   ],
   "source": [
    "date_str = goes_path[4][:-3].split(\"/\")[-1].split(\"_\")[-1][1:]\n",
    "print(date_str)\n",
    "datetime.strptime(date_str, \"%Y%j%H%M%S%f\")"
   ]
  },
  {
   "cell_type": "code",
   "execution_count": 34,
   "metadata": {},
   "outputs": [],
   "source": [
    "def get_goes16_abi_file(date, channel, path):\n",
    "    pd_date = pd.Timestamp(date)\n",
    "    channel_files = sorted(glob(join(path, pd_date.strftime(\"%Y%m%d\"), f\"OR_ABI-L1b-RadC-M3C{channel:02d}_G16_*.nc\")))\n",
    "    # Date format: Year (%Y), Day of Year (%j), Hour (%H), Minute (%M), Second (%s), Tenth of a second\n",
    "    # See https://docs.opendata.aws/noaa-goes16/cics-readme.html for more details\n",
    "    channel_dates = pd.DatetimeIndex([datetime.strptime(c_file[:-3].split(\"/\")[-1].split(\"_\")[-1][1:-1], \"%Y%j%H%M%S\") for c_file in channel_files])\n",
    "    file_index = np.where(np.abs(pd_date - channel_dates) < pd.Timedelta(minutes=2))[0]\n",
    "    if len(file_index) == 0:\n",
    "        raise FileNotFoundError('No GOES-16 files within 2 minutes of ' + pd_date)\n",
    "    else:\n",
    "        filename = channel_files[file_index[0]]\n",
    "    return filename"
   ]
  },
  {
   "cell_type": "code",
   "execution_count": 38,
   "metadata": {},
   "outputs": [],
   "source": [
    "abi_path = \"/glade/p/cisl/aiml/dgagne/goes16_nc/ABI-L1b_conus\"\n",
    "abi_file = get_goes16_abi_file(pd.Timestamp(\"2018-05-03 18:45:00\"), 14, abi_path)"
   ]
  },
  {
   "cell_type": "code",
   "execution_count": 39,
   "metadata": {},
   "outputs": [],
   "source": [
    "ds = xr.open_dataset(abi_file)"
   ]
  },
  {
   "cell_type": "code",
   "execution_count": 47,
   "metadata": {},
   "outputs": [],
   "source": [
    "proj = ccrs.Geostationary(central_longitude=ds[\"nominal_satellite_subpoint_lon\"].values, \n",
    "                   satellite_height=ds[\"nominal_satellite_height\"].values * 1000,\n",
    "                   sweep_axis='x')"
   ]
  },
  {
   "cell_type": "code",
   "execution_count": null,
   "metadata": {},
   "outputs": [],
   "source": [
    "proj.transform_points()"
   ]
  },
  {
   "cell_type": "code",
   "execution_count": 71,
   "metadata": {},
   "outputs": [],
   "source": [
    "g16_proj = Proj(**proj.proj4_params)"
   ]
  },
  {
   "cell_type": "code",
   "execution_count": 104,
   "metadata": {},
   "outputs": [],
   "source": [
    "x = ds[\"x\"].values * sat_height * 1000\n",
    "y = ds[\"y\"].values * sat_height * 1000\n",
    "xx, yy = np.meshgrid(x, y)\n",
    "lons, lats = g16_proj(xx, yy, inverse=True)\n",
    "lons[lons > 1e20] = np.nan\n",
    "lats[lats > 1e20] = np.nan"
   ]
  },
  {
   "cell_type": "code",
   "execution_count": 90,
   "metadata": {},
   "outputs": [
    {
     "data": {
      "text/plain": [
       "<matplotlib.contour.QuadContourSet at 0x2b00365efa58>"
      ]
     },
     "execution_count": 90,
     "metadata": {},
     "output_type": "execute_result"
    },
    {
     "data": {
      "image/png": "[encoded data removed]",
      "text/plain": [
       "<Figure size 432x288 with 1 Axes>"
      ]
     },
     "metadata": {},
     "output_type": "display_data"
    }
   ],
   "source": [
    "plt.contourf(np.ma.array(lons, mask=lons>1e20))"
   ]
  },
  {
   "cell_type": "code",
   "execution_count": 60,
   "metadata": {},
   "outputs": [],
   "source": [
    "sat_height = ds[\"nominal_satellite_height\"].values"
   ]
  },
  {
   "cell_type": "code",
   "execution_count": 96,
   "metadata": {},
   "outputs": [
    {
     "data": {
      "text/plain": [
       "<xarray.DataArray 'Rad' (y: 1500, x: 2500)>\n",
       "array([[       nan,        nan,        nan, ...,  67.5209  ,  68.70871 ,\n",
       "         70.34196 ],\n",
       "       [       nan,        nan,        nan, ...,  67.71887 ,  68.065315,\n",
       "         70.24297 ],\n",
       "       [       nan,        nan,        nan, ...,  68.1643  ,  69.50059 ,\n",
       "         70.045006],\n",
       "       ...,\n",
       "       [ 93.65279 ,  93.65279 ,  91.920555, ..., 108.25298 , 108.40147 ,\n",
       "        108.40147 ],\n",
       "       [ 93.65279 ,  93.75177 ,  93.80126 , ..., 108.35197 , 108.45096 ,\n",
       "        108.50045 ],\n",
       "       [ 93.70228 ,  94.1972  ,  95.68197 , ..., 108.45096 , 108.45096 ,\n",
       "        108.54994 ]], dtype=float32)\n",
       "Coordinates:\n",
       "  * y        (y) float32 0.128212 0.128156 0.12810001 0.12804401 0.12798801 ...\n",
       "  * x        (x) float32 -0.101332 -0.101276 -0.101220004 -0.101164 ...\n",
       "    t        datetime64[ns] ...\n",
       "    y_image  float32 0.08624\n",
       "    x_image  float32 -0.03136\n",
       "Attributes:\n",
       "    long_name:              ABI L1b Radiances\n",
       "    standard_name:          toa_outgoing_radiance_per_unit_wavenumber\n",
       "    sensor_band_bit_depth:  12\n",
       "    valid_range:            [   0 4094]\n",
       "    units:                  mW m-2 sr-1 (cm-1)-1\n",
       "    resolution:             y: 0.000056 rad x: 0.000056 rad\n",
       "    grid_mapping:           goes_imager_projection\n",
       "    cell_methods:           t: point area: point\n",
       "    ancillary_variables:    DQF"
      ]
     },
     "execution_count": 96,
     "metadata": {},
     "output_type": "execute_result"
    }
   ],
   "source": [
    "ds[\"Rad\"]"
   ]
  },
  {
   "cell_type": "code",
   "execution_count": 105,
   "metadata": {},
   "outputs": [
    {
     "ename": "ValueError",
     "evalue": "x and y arguments to pcolormesh cannot have non-finite values or be of type numpy.ma.core.MaskedArray with masked values",
     "traceback": [
      "\u001b[0;31m---------------------------------------------------------------------------\u001b[0m",
      "\u001b[0;31mValueError\u001b[0m                                Traceback (most recent call last)",
      "\u001b[0;32m<ipython-input-105-f768f81c5edd>\u001b[0m in \u001b[0;36m<module>\u001b[0;34m()\u001b[0m\n\u001b[1;32m      1\u001b[0m \u001b[0;31m#fig, ax = plt.subplots(1, 1, figsize=(10, 6), subplot_kw=dict(projection=proj))\u001b[0m\u001b[0;34m\u001b[0m\u001b[0;34m\u001b[0m\u001b[0m\n\u001b[0;32m----> 2\u001b[0;31m \u001b[0mplt\u001b[0m\u001b[0;34m.\u001b[0m\u001b[0mpcolormesh\u001b[0m\u001b[0;34m(\u001b[0m\u001b[0mlons\u001b[0m\u001b[0;34m,\u001b[0m \u001b[0mlats\u001b[0m\u001b[0;34m,\u001b[0m \u001b[0mnp\u001b[0m\u001b[0;34m.\u001b[0m\u001b[0mma\u001b[0m\u001b[0;34m.\u001b[0m\u001b[0marray\u001b[0m\u001b[0;34m(\u001b[0m\u001b[0mds\u001b[0m\u001b[0;34m[\u001b[0m\u001b[0;34m\"Rad\"\u001b[0m\u001b[0;34m]\u001b[0m\u001b[0;34m.\u001b[0m\u001b[0mvalues\u001b[0m\u001b[0;34m,\u001b[0m \u001b[0mmask\u001b[0m\u001b[0;34m=\u001b[0m\u001b[0mnp\u001b[0m\u001b[0;34m.\u001b[0m\u001b[0misnan\u001b[0m\u001b[0;34m(\u001b[0m\u001b[0mds\u001b[0m\u001b[0;34m[\u001b[0m\u001b[0;34m\"Rad\"\u001b[0m\u001b[0;34m]\u001b[0m\u001b[0;34m)\u001b[0m\u001b[0;34m)\u001b[0m\u001b[0;34m,\u001b[0m \u001b[0mcmap\u001b[0m\u001b[0;34m=\u001b[0m\u001b[0;34m\"Greys\"\u001b[0m\u001b[0;34m)\u001b[0m\u001b[0;34m\u001b[0m\u001b[0m\n\u001b[0m",
      "\u001b[0;32m/glade/u/apps/dav/opt/python/3.6.4/intel/17.0.1/pkg-library/20180801-DL/lib/python3.6/site-packages/matplotlib/pyplot.py\u001b[0m in \u001b[0;36mpcolormesh\u001b[0;34m(*args, **kwargs)\u001b[0m\n\u001b[1;32m   3286\u001b[0m                       mplDeprecation)\n\u001b[1;32m   3287\u001b[0m     \u001b[0;32mtry\u001b[0m\u001b[0;34m:\u001b[0m\u001b[0;34m\u001b[0m\u001b[0m\n\u001b[0;32m-> 3288\u001b[0;31m         \u001b[0mret\u001b[0m \u001b[0;34m=\u001b[0m \u001b[0max\u001b[0m\u001b[0;34m.\u001b[0m\u001b[0mpcolormesh\u001b[0m\u001b[0;34m(\u001b[0m\u001b[0;34m*\u001b[0m\u001b[0margs\u001b[0m\u001b[0;34m,\u001b[0m \u001b[0;34m**\u001b[0m\u001b[0mkwargs\u001b[0m\u001b[0;34m)\u001b[0m\u001b[0;34m\u001b[0m\u001b[0m\n\u001b[0m\u001b[1;32m   3289\u001b[0m     \u001b[0;32mfinally\u001b[0m\u001b[0;34m:\u001b[0m\u001b[0;34m\u001b[0m\u001b[0m\n\u001b[1;32m   3290\u001b[0m         \u001b[0max\u001b[0m\u001b[0;34m.\u001b[0m\u001b[0m_hold\u001b[0m \u001b[0;34m=\u001b[0m \u001b[0mwashold\u001b[0m\u001b[0;34m\u001b[0m\u001b[0m\n",
      "\u001b[0;32m/glade/u/apps/dav/opt/python/3.6.4/intel/17.0.1/pkg-library/20180801-DL/lib/python3.6/site-packages/matplotlib/__init__.py\u001b[0m in \u001b[0;36minner\u001b[0;34m(ax, *args, **kwargs)\u001b[0m\n\u001b[1;32m   1853\u001b[0m                         \u001b[0;34m\"the Matplotlib list!)\"\u001b[0m \u001b[0;34m%\u001b[0m \u001b[0;34m(\u001b[0m\u001b[0mlabel_namer\u001b[0m\u001b[0;34m,\u001b[0m \u001b[0mfunc\u001b[0m\u001b[0;34m.\u001b[0m\u001b[0m__name__\u001b[0m\u001b[0;34m)\u001b[0m\u001b[0;34m,\u001b[0m\u001b[0;34m\u001b[0m\u001b[0m\n\u001b[1;32m   1854\u001b[0m                         RuntimeWarning, stacklevel=2)\n\u001b[0;32m-> 1855\u001b[0;31m             \u001b[0;32mreturn\u001b[0m \u001b[0mfunc\u001b[0m\u001b[0;34m(\u001b[0m\u001b[0max\u001b[0m\u001b[0;34m,\u001b[0m \u001b[0;34m*\u001b[0m\u001b[0margs\u001b[0m\u001b[0;34m,\u001b[0m \u001b[0;34m**\u001b[0m\u001b[0mkwargs\u001b[0m\u001b[0;34m)\u001b[0m\u001b[0;34m\u001b[0m\u001b[0m\n\u001b[0m\u001b[1;32m   1856\u001b[0m \u001b[0;34m\u001b[0m\u001b[0m\n\u001b[1;32m   1857\u001b[0m         inner.__doc__ = _add_data_doc(inner.__doc__,\n",
      "\u001b[0;32m/glade/u/apps/dav/opt/python/3.6.4/intel/17.0.1/pkg-library/20180801-DL/lib/python3.6/site-packages/matplotlib/axes/_axes.py\u001b[0m in \u001b[0;36mpcolormesh\u001b[0;34m(self, *args, **kwargs)\u001b[0m\n\u001b[1;32m   5928\u001b[0m         \u001b[0mallmatch\u001b[0m \u001b[0;34m=\u001b[0m \u001b[0;34m(\u001b[0m\u001b[0mshading\u001b[0m \u001b[0;34m==\u001b[0m \u001b[0;34m'gouraud'\u001b[0m\u001b[0;34m)\u001b[0m\u001b[0;34m\u001b[0m\u001b[0m\n\u001b[1;32m   5929\u001b[0m \u001b[0;34m\u001b[0m\u001b[0m\n\u001b[0;32m-> 5930\u001b[0;31m         \u001b[0mX\u001b[0m\u001b[0;34m,\u001b[0m \u001b[0mY\u001b[0m\u001b[0;34m,\u001b[0m \u001b[0mC\u001b[0m \u001b[0;34m=\u001b[0m \u001b[0mself\u001b[0m\u001b[0;34m.\u001b[0m\u001b[0m_pcolorargs\u001b[0m\u001b[0;34m(\u001b[0m\u001b[0;34m'pcolormesh'\u001b[0m\u001b[0;34m,\u001b[0m \u001b[0;34m*\u001b[0m\u001b[0margs\u001b[0m\u001b[0;34m,\u001b[0m \u001b[0mallmatch\u001b[0m\u001b[0;34m=\u001b[0m\u001b[0mallmatch\u001b[0m\u001b[0;34m)\u001b[0m\u001b[0;34m\u001b[0m\u001b[0m\n\u001b[0m\u001b[1;32m   5931\u001b[0m         \u001b[0mNy\u001b[0m\u001b[0;34m,\u001b[0m \u001b[0mNx\u001b[0m \u001b[0;34m=\u001b[0m \u001b[0mX\u001b[0m\u001b[0;34m.\u001b[0m\u001b[0mshape\u001b[0m\u001b[0;34m\u001b[0m\u001b[0m\n\u001b[1;32m   5932\u001b[0m         \u001b[0mX\u001b[0m \u001b[0;34m=\u001b[0m \u001b[0mX\u001b[0m\u001b[0;34m.\u001b[0m\u001b[0mravel\u001b[0m\u001b[0;34m(\u001b[0m\u001b[0;34m)\u001b[0m\u001b[0;34m\u001b[0m\u001b[0m\n",
      "\u001b[0;32m/glade/u/apps/dav/opt/python/3.6.4/intel/17.0.1/pkg-library/20180801-DL/lib/python3.6/site-packages/matplotlib/axes/_axes.py\u001b[0m in \u001b[0;36m_pcolorargs\u001b[0;34m(funcname, *args, **kw)\u001b[0m\n\u001b[1;32m   5539\u001b[0m                 \u001b[0;32mif\u001b[0m \u001b[0mnp\u001b[0m\u001b[0;34m.\u001b[0m\u001b[0mma\u001b[0m\u001b[0;34m.\u001b[0m\u001b[0mis_masked\u001b[0m\u001b[0;34m(\u001b[0m\u001b[0mX\u001b[0m\u001b[0;34m)\u001b[0m \u001b[0;32mor\u001b[0m \u001b[0mnp\u001b[0m\u001b[0;34m.\u001b[0m\u001b[0mma\u001b[0m\u001b[0;34m.\u001b[0m\u001b[0mis_masked\u001b[0m\u001b[0;34m(\u001b[0m\u001b[0mY\u001b[0m\u001b[0;34m)\u001b[0m\u001b[0;34m:\u001b[0m\u001b[0;34m\u001b[0m\u001b[0m\n\u001b[1;32m   5540\u001b[0m                     raise ValueError(\n\u001b[0;32m-> 5541\u001b[0;31m                         \u001b[0;34m'x and y arguments to pcolormesh cannot have '\u001b[0m\u001b[0;34m\u001b[0m\u001b[0m\n\u001b[0m\u001b[1;32m   5542\u001b[0m                         \u001b[0;34m'non-finite values or be of type '\u001b[0m\u001b[0;34m\u001b[0m\u001b[0m\n\u001b[1;32m   5543\u001b[0m                         'numpy.ma.core.MaskedArray with masked values')\n",
      "\u001b[0;31mValueError\u001b[0m: x and y arguments to pcolormesh cannot have non-finite values or be of type numpy.ma.core.MaskedArray with masked values"
     ],
     "output_type": "error"
    },
    {
     "data": {
      "image/png": "[encoded data removed]",
      "text/plain": [
       "<Figure size 432x288 with 1 Axes>"
      ]
     },
     "metadata": {},
     "output_type": "display_data"
    }
   ],
   "source": [
    "#fig, ax = plt.subplots(1, 1, figsize=(10, 6), subplot_kw=dict(projection=proj))\n",
    "plt.pcolormesh(lons, lats, np.ma.array(ds[\"Rad\"].values, mask=np.isnan(ds[\"Rad\"])), cmap=\"Greys\")"
   ]
  },
  {
   "cell_type": "code",
   "execution_count": 42,
   "metadata": {},
   "outputs": [
    {
     "data": {
      "text/plain": [
       "<xarray.Dataset>\n",
       "Dimensions:                                 (band: 1, num_star_looks: 24, number_of_image_bounds: 2, number_of_time_bounds: 2, x: 2500, y: 1500)\n",
       "Coordinates:\n",
       "  * y                                       (y) float32 0.128212 0.128156 ...\n",
       "  * x                                       (x) float32 -0.101332 -0.101276 ...\n",
       "    t                                       datetime64[ns] ...\n",
       "    y_image                                 float32 ...\n",
       "    x_image                                 float32 ...\n",
       "    band_id                                 (band) int8 ...\n",
       "    band_wavelength                         (band) float32 ...\n",
       "    t_star_look                             (num_star_looks) datetime64[ns] ...\n",
       "    band_wavelength_star_look               (num_star_looks) float32 ...\n",
       "Dimensions without coordinates: band, num_star_looks, number_of_image_bounds, number_of_time_bounds\n",
       "Data variables:\n",
       "    Rad                                     (y, x) float32 nan nan nan nan ...\n",
       "    DQF                                     (y, x) float32 ...\n",
       "    time_bounds                             (number_of_time_bounds) float64 ...\n",
       "    goes_imager_projection                  int32 ...\n",
       "    y_image_bounds                          (number_of_image_bounds) float32 ...\n",
       "    x_image_bounds                          (number_of_image_bounds) float32 ...\n",
       "    nominal_satellite_subpoint_lat          float32 ...\n",
       "    nominal_satellite_subpoint_lon          float32 ...\n",
       "    nominal_satellite_height                float32 ...\n",
       "    geospatial_lat_lon_extent               float32 ...\n",
       "    yaw_flip_flag                           float32 ...\n",
       "    esun                                    float32 ...\n",
       "    kappa0                                  float32 ...\n",
       "    planck_fk1                              float32 ...\n",
       "    planck_fk2                              float32 ...\n",
       "    planck_bc1                              float32 ...\n",
       "    planck_bc2                              float32 ...\n",
       "    valid_pixel_count                       float64 ...\n",
       "    missing_pixel_count                     float64 ...\n",
       "    saturated_pixel_count                   float64 ...\n",
       "    undersaturated_pixel_count              float64 ...\n",
       "    min_radiance_value_of_valid_pixels      float32 ...\n",
       "    max_radiance_value_of_valid_pixels      float32 ...\n",
       "    mean_radiance_value_of_valid_pixels     float32 ...\n",
       "    std_dev_radiance_value_of_valid_pixels  float32 ...\n",
       "    percent_uncorrectable_L0_errors         float32 ...\n",
       "    earth_sun_distance_anomaly_in_AU        float32 ...\n",
       "    algorithm_dynamic_input_data_container  int32 ...\n",
       "    processing_parm_version_container       int32 ...\n",
       "    algorithm_product_version_container     int32 ...\n",
       "    star_id                                 (num_star_looks) float32 ...\n",
       "Attributes:\n",
       "    naming_authority:          gov.nesdis.noaa\n",
       "    Conventions:               CF-1.7\n",
       "    Metadata_Conventions:      Unidata Dataset Discovery v1.0\n",
       "    standard_name_vocabulary:  CF Standard Name Table (v25, 05 July 2013)\n",
       "    institution:               DOC/NOAA/NESDIS > U.S. Department of Commerce,...\n",
       "    project:                   GOES\n",
       "    production_site:           WCDAS\n",
       "    production_environment:    OE\n",
       "    spatial_resolution:        2km at nadir\n",
       "    orbital_slot:              GOES-East\n",
       "    platform_ID:               G16\n",
       "    instrument_type:           GOES R Series Advanced Baseline Imager\n",
       "    scene_id:                  CONUS\n",
       "    instrument_ID:             FM1\n",
       "    title:                     ABI L1b Radiances\n",
       "    summary:                   Single emissive band ABI L1b Radiance Products...\n",
       "    keywords:                  SPECTRAL/ENGINEERING > INFRARED WAVELENGTHS > ...\n",
       "    keywords_vocabulary:       NASA Global Change Master Directory (GCMD) Ear...\n",
       "    iso_series_metadata_id:    a70be540-c38b-11e0-962b-0800200c9a66\n",
       "    license:                   Unclassified data.  Access is restricted to ap...\n",
       "    processing_level:          L1b\n",
       "    cdm_data_type:             Image\n",
       "    dataset_name:              OR_ABI-L1b-RadC-M3C14_G16_s20181231842190_e201...\n",
       "    production_data_source:    Realtime\n",
       "    timeline_id:               ABI Mode 3\n",
       "    date_created:              2018-05-03T18:45:01.0Z\n",
       "    time_coverage_start:       2018-05-03T18:42:19.0Z\n",
       "    time_coverage_end:         2018-05-03T18:44:56.3Z\n",
       "    created_by:                CSPP Geo GRB-R v0.4.6"
      ]
     },
     "execution_count": 42,
     "metadata": {},
     "output_type": "execute_result"
    }
   ],
   "source": [
    "ds"
   ]
  },
  {
   "cell_type": "code",
   "execution_count": 57,
   "metadata": {},
   "outputs": [
    {
     "data": {
      "text/plain": [
       "<xarray.DataArray 'geospatial_lat_lon_extent' ()>\n",
       "array(9.96921e+36, dtype=float32)\n",
       "Coordinates:\n",
       "    t        datetime64[ns] ...\n",
       "    y_image  float32 0.08624\n",
       "    x_image  float32 -0.03136\n",
       "Attributes:\n",
       "    long_name:                       geospatial latitude and longitude refere...\n",
       "    geospatial_westbound_longitude:  -152.10928\n",
       "    geospatial_northbound_latitude:  56.76145\n",
       "    geospatial_eastbound_longitude:  -52.94688\n",
       "    geospatial_southbound_latitude:  14.57134\n",
       "    geospatial_lat_center:           30.083002\n",
       "    geospatial_lon_center:           -87.096954\n",
       "    geospatial_lat_nadir:            0.0\n",
       "    geospatial_lon_nadir:            -75.0\n",
       "    geospatial_lat_units:            degrees_north\n",
       "    geospatial_lon_units:            degrees_east"
      ]
     },
     "execution_count": 57,
     "metadata": {},
     "output_type": "execute_result"
    }
   ],
   "source": [
    "ds[\"geospatial_lat_lon_extent\"]"
   ]
  },
  {
   "cell_type": "code",
   "execution_count": 58,
   "metadata": {},
   "outputs": [
    {
     "data": {
      "text/plain": [
       "<xarray.DataArray 'goes_imager_projection' ()>\n",
       "array(-2147483647, dtype=int32)\n",
       "Coordinates:\n",
       "    t        datetime64[ns] ...\n",
       "    y_image  float32 0.08624\n",
       "    x_image  float32 -0.03136\n",
       "Attributes:\n",
       "    long_name:                       GOES-R ABI fixed grid projection\n",
       "    grid_mapping_name:               geostationary\n",
       "    perspective_point_height:        35786023.0\n",
       "    semi_major_axis:                 6378137.0\n",
       "    semi_minor_axis:                 6356752.31414\n",
       "    inverse_flattening:              298.2572221\n",
       "    latitude_of_projection_origin:   0.0\n",
       "    longitude_of_projection_origin:  -75.0\n",
       "    sweep_angle_axis:                x"
      ]
     },
     "execution_count": 58,
     "metadata": {},
     "output_type": "execute_result"
    }
   ],
   "source": [
    "ds[\"goes_imager_projection\"]"
   ]
  },
  {
   "cell_type": "code",
   "execution_count": null,
   "metadata": {},
   "outputs": [],
   "source": []
  }
 ],
 "metadata": {
  "kernelspec": {
   "display_name": "Python 3",
   "language": "python",
   "name": "python3"
  },
  "language_info": {
   "codemirror_mode": {
    "name": "ipython",
    "version": 3
   },
   "file_extension": ".py",
   "mimetype": "text/x-python",
   "name": "python",
   "nbconvert_exporter": "python",
   "pygments_lexer": "ipython3",
   "version": "3.6.4"
  }
 },
 "nbformat": 4,
 "nbformat_minor": 2
}
