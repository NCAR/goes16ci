{
 "cells": [
  {
   "cell_type": "code",
   "execution_count": 5,
   "metadata": {},
   "outputs": [],
   "source": [
    "import pandas as pd\n",
    "import numpy as np\n",
    "import matplotlib.pyplot as plt\n",
    "%matplotlib inline"
   ]
  },
  {
   "cell_type": "markdown",
   "metadata": {},
   "source": [
    "1. Brier Skill Score by epoch. Brier score is the mean squared error for probability forecasts, or np.mean((predictions - true_labels) ** 2)). Brier skill score is 1 - brier_score / brier_score_climatology.\n",
    "brier_score_climatology = np.mean((predictions.mean() - true_labels) ** 2)\n",
    "\n",
    "2. Find the validation example that maximizes the probability of lightning. Plot each of the channels of the patch as separate subplots using matplotlib pcolormesh. Use the Greys colormap. I would recommend using the min-max normalized version of the data and set vmin=0 and vmax=1."
   ]
  },
  {
   "cell_type": "code",
   "execution_count": 2,
   "metadata": {},
   "outputs": [
    {
     "data": {
      "text/html": [
       "<div>\n",
       "<style scoped>\n",
       "    .dataframe tbody tr th:only-of-type {\n",
       "        vertical-align: middle;\n",
       "    }\n",
       "\n",
       "    .dataframe tbody tr th {\n",
       "        vertical-align: top;\n",
       "    }\n",
       "\n",
       "    .dataframe thead th {\n",
       "        text-align: right;\n",
       "    }\n",
       "</style>\n",
       "<table border=\"1\" class=\"dataframe\">\n",
       "  <thead>\n",
       "    <tr style=\"text-align: right;\">\n",
       "      <th></th>\n",
       "      <th>loss</th>\n",
       "      <th>[0.2287439657077053</th>\n",
       "      <th>0.16073365356401312</th>\n",
       "      <th>0.14878632390678714</th>\n",
       "      <th>0.13955095187531127</th>\n",
       "      <th>0.13342304872927693</th>\n",
       "      <th>0.12846669494768995</th>\n",
       "      <th>0.1217046270324461</th>\n",
       "      <th>0.1164241275533669</th>\n",
       "      <th>0.11321644687888313</th>\n",
       "      <th>...</th>\n",
       "      <th>0.10478149682227277</th>\n",
       "      <th>0.10396075069679828</th>\n",
       "      <th>0.09915352153295402</th>\n",
       "      <th>0.10379485468630961</th>\n",
       "      <th>0.09551849457391462</th>\n",
       "      <th>0.0899673647131848</th>\n",
       "      <th>0.0888117604723758</th>\n",
       "      <th>0.0842381138378393</th>\n",
       "      <th>0.08112328088103939</th>\n",
       "      <th>0.07985504032359958]</th>\n",
       "    </tr>\n",
       "  </thead>\n",
       "  <tbody>\n",
       "    <tr>\n",
       "      <th>0</th>\n",
       "      <td>mean_squared_error</td>\n",
       "      <td>[0.06803493</td>\n",
       "      <td>0.047910</td>\n",
       "      <td>0.044488</td>\n",
       "      <td>0.041813</td>\n",
       "      <td>0.039684</td>\n",
       "      <td>0.038308</td>\n",
       "      <td>0.036185</td>\n",
       "      <td>0.034529</td>\n",
       "      <td>0.033679</td>\n",
       "      <td>...</td>\n",
       "      <td>0.030902</td>\n",
       "      <td>0.030646</td>\n",
       "      <td>0.029328</td>\n",
       "      <td>0.030886</td>\n",
       "      <td>0.027897</td>\n",
       "      <td>0.026262</td>\n",
       "      <td>0.025843</td>\n",
       "      <td>0.024602</td>\n",
       "      <td>0.023408</td>\n",
       "      <td>0.023128202]</td>\n",
       "    </tr>\n",
       "    <tr>\n",
       "      <th>1</th>\n",
       "      <td>AUC</td>\n",
       "      <td>[0.95101774</td>\n",
       "      <td>0.976566</td>\n",
       "      <td>0.979658</td>\n",
       "      <td>0.982040</td>\n",
       "      <td>0.983449</td>\n",
       "      <td>0.984640</td>\n",
       "      <td>0.986084</td>\n",
       "      <td>0.987378</td>\n",
       "      <td>0.988053</td>\n",
       "      <td>...</td>\n",
       "      <td>0.989633</td>\n",
       "      <td>0.989927</td>\n",
       "      <td>0.990778</td>\n",
       "      <td>0.989749</td>\n",
       "      <td>0.991348</td>\n",
       "      <td>0.992398</td>\n",
       "      <td>0.992433</td>\n",
       "      <td>0.993327</td>\n",
       "      <td>0.993701</td>\n",
       "      <td>0.99383813]</td>\n",
       "    </tr>\n",
       "    <tr>\n",
       "      <th>2</th>\n",
       "      <td>val_loss</td>\n",
       "      <td>[0.4271122461443494</td>\n",
       "      <td>0.364584</td>\n",
       "      <td>0.498648</td>\n",
       "      <td>0.735612</td>\n",
       "      <td>0.943723</td>\n",
       "      <td>1.091638</td>\n",
       "      <td>1.107897</td>\n",
       "      <td>1.024137</td>\n",
       "      <td>0.751683</td>\n",
       "      <td>...</td>\n",
       "      <td>0.343931</td>\n",
       "      <td>0.170183</td>\n",
       "      <td>0.217512</td>\n",
       "      <td>0.231666</td>\n",
       "      <td>0.125443</td>\n",
       "      <td>0.104560</td>\n",
       "      <td>0.110603</td>\n",
       "      <td>0.108602</td>\n",
       "      <td>0.141705</td>\n",
       "      <td>0.12756620107633862]</td>\n",
       "    </tr>\n",
       "    <tr>\n",
       "      <th>3</th>\n",
       "      <td>val_mean_squared_error</td>\n",
       "      <td>[0.12614524</td>\n",
       "      <td>0.111356</td>\n",
       "      <td>0.129116</td>\n",
       "      <td>0.135649</td>\n",
       "      <td>0.136691</td>\n",
       "      <td>0.136888</td>\n",
       "      <td>0.136860</td>\n",
       "      <td>0.134419</td>\n",
       "      <td>0.131770</td>\n",
       "      <td>...</td>\n",
       "      <td>0.081578</td>\n",
       "      <td>0.046673</td>\n",
       "      <td>0.060145</td>\n",
       "      <td>0.071530</td>\n",
       "      <td>0.038128</td>\n",
       "      <td>0.029444</td>\n",
       "      <td>0.032002</td>\n",
       "      <td>0.030673</td>\n",
       "      <td>0.037241</td>\n",
       "      <td>0.037720058]</td>\n",
       "    </tr>\n",
       "    <tr>\n",
       "      <th>4</th>\n",
       "      <td>val_AUC</td>\n",
       "      <td>[0.9005979</td>\n",
       "      <td>0.905257</td>\n",
       "      <td>0.881517</td>\n",
       "      <td>0.565848</td>\n",
       "      <td>0.500446</td>\n",
       "      <td>0.500058</td>\n",
       "      <td>0.498214</td>\n",
       "      <td>0.570097</td>\n",
       "      <td>0.689165</td>\n",
       "      <td>...</td>\n",
       "      <td>0.915556</td>\n",
       "      <td>0.967810</td>\n",
       "      <td>0.965209</td>\n",
       "      <td>0.958695</td>\n",
       "      <td>0.978984</td>\n",
       "      <td>0.983475</td>\n",
       "      <td>0.982165</td>\n",
       "      <td>0.981273</td>\n",
       "      <td>0.974041</td>\n",
       "      <td>0.9800033]</td>\n",
       "    </tr>\n",
       "  </tbody>\n",
       "</table>\n",
       "<p>5 rows × 21 columns</p>\n",
       "</div>"
      ],
      "text/plain": [
       "                     loss  [0.2287439657077053   0.16073365356401312  \\\n",
       "0      mean_squared_error          [0.06803493              0.047910   \n",
       "1                     AUC          [0.95101774              0.976566   \n",
       "2                val_loss  [0.4271122461443494              0.364584   \n",
       "3  val_mean_squared_error          [0.12614524              0.111356   \n",
       "4                 val_AUC           [0.9005979              0.905257   \n",
       "\n",
       "    0.14878632390678714   0.13955095187531127   0.13342304872927693  \\\n",
       "0              0.044488              0.041813              0.039684   \n",
       "1              0.979658              0.982040              0.983449   \n",
       "2              0.498648              0.735612              0.943723   \n",
       "3              0.129116              0.135649              0.136691   \n",
       "4              0.881517              0.565848              0.500446   \n",
       "\n",
       "    0.12846669494768995   0.1217046270324461   0.1164241275533669  \\\n",
       "0              0.038308             0.036185             0.034529   \n",
       "1              0.984640             0.986084             0.987378   \n",
       "2              1.091638             1.107897             1.024137   \n",
       "3              0.136888             0.136860             0.134419   \n",
       "4              0.500058             0.498214             0.570097   \n",
       "\n",
       "    0.11321644687888313  ...   0.10478149682227277   0.10396075069679828  \\\n",
       "0              0.033679  ...              0.030902              0.030646   \n",
       "1              0.988053  ...              0.989633              0.989927   \n",
       "2              0.751683  ...              0.343931              0.170183   \n",
       "3              0.131770  ...              0.081578              0.046673   \n",
       "4              0.689165  ...              0.915556              0.967810   \n",
       "\n",
       "    0.09915352153295402   0.10379485468630961   0.09551849457391462  \\\n",
       "0              0.029328              0.030886              0.027897   \n",
       "1              0.990778              0.989749              0.991348   \n",
       "2              0.217512              0.231666              0.125443   \n",
       "3              0.060145              0.071530              0.038128   \n",
       "4              0.965209              0.958695              0.978984   \n",
       "\n",
       "    0.0899673647131848   0.0888117604723758   0.0842381138378393  \\\n",
       "0             0.026262             0.025843             0.024602   \n",
       "1             0.992398             0.992433             0.993327   \n",
       "2             0.104560             0.110603             0.108602   \n",
       "3             0.029444             0.032002             0.030673   \n",
       "4             0.983475             0.982165             0.981273   \n",
       "\n",
       "    0.08112328088103939   0.07985504032359958]  \n",
       "0              0.023408           0.023128202]  \n",
       "1              0.993701            0.99383813]  \n",
       "2              0.141705   0.12756620107633862]  \n",
       "3              0.037241           0.037720058]  \n",
       "4              0.974041             0.9800033]  \n",
       "\n",
       "[5 rows x 21 columns]"
      ]
     },
     "execution_count": 2,
     "metadata": {},
     "output_type": "execute_result"
    }
   ],
   "source": [
    "val_his = pd.read_csv(\"AUC_history.csv\")\n",
    "val_his.head()"
   ]
  },
  {
   "cell_type": "code",
   "execution_count": 16,
   "metadata": {},
   "outputs": [
    {
     "name": "stdout",
     "output_type": "stream",
     "text": [
      "0.99383813\n",
      "[0.95101774, 0.97656626, 0.9796575000000001, 0.9820404, 0.98344946, 0.98463976, 0.98608375, 0.98737836, 0.9880532, 0.98935133, 0.98963255, 0.9899271000000001, 0.99077755, 0.9897485999999999, 0.99134815, 0.9923978999999999, 0.9924334, 0.99332666, 0.99370074, 0.99383813]\n",
      "[1, 2, 3, 4, 5, 6, 7, 8, 9, 10, 11, 12, 13, 14, 15, 16, 17, 18, 19, 20]\n"
     ]
    }
   ],
   "source": [
    "AUC = val_his.iloc[1]\n",
    "y_val_AUC = []\n",
    "x_val_AUC = []\n",
    "for i in AUC:\n",
    "    y_val_AUC.append(i)\n",
    "y_val_AUC = y_val_AUC[1:]\n",
    "#print(y_val_AUC[0])\n",
    "y_val_AUC[0] = float(y_val_AUC[0][1:])\n",
    "#print(y_val_AUC[0])\n",
    "#print(y_val_AUC[19])\n",
    "y_val_AUC[19] = str(y_val_AUC[19])\n",
    "y_val_AUC[19] = float(y_val_AUC[19][:-1])\n",
    "print(y_val_AUC[19])\n",
    "for ii in range(21):\n",
    "    x_val_AUC.append(ii)\n",
    "x_val_AUC = x_val_AUC[1:]\n",
    "print(y_val_AUC)\n",
    "print(x_val_AUC)"
   ]
  },
  {
   "cell_type": "code",
   "execution_count": 18,
   "metadata": {},
   "outputs": [
    {
     "data": {
      "image/png": "[encoded data removed]",
      "text/plain": [
       "<Figure size 432x288 with 1 Axes>"
      ]
     },
     "metadata": {
      "needs_background": "light"
     },
     "output_type": "display_data"
    }
   ],
   "source": [
    "fig = plt.figure()\n",
    "ax = fig.add_subplot(1, 1, 1)\n",
    "ax.scatter(x_val_AUC,y_val_AUC)\n",
    "ax.plot(x_val_AUC,y_val_AUC)\n",
    "plt.title('Training Data AUC Dependent on Epochs')\n",
    "plt.xlabel('Number of Epochs')\n",
    "ax.set_xticks(np.arange(21))\n",
    "plt.ylabel('Training AUC')\n",
    "plt.ylim(0.94, 1.0)\n",
    "plt.savefig(\"goes_train_auc.png\", dpi=250, bbox_inches=\"tight\")"
   ]
  },
  {
   "cell_type": "code",
   "execution_count": 14,
   "metadata": {},
   "outputs": [
    {
     "name": "stdout",
     "output_type": "stream",
     "text": [
      "0.9800033\n",
      "[0.9005979, 0.905257, 0.88151723, 0.5658484, 0.50044644, 0.5000581000000001, 0.4982137, 0.57009715, 0.68916494, 0.863626, 0.9155559999999999, 0.9678103000000001, 0.9652088, 0.9586952, 0.97898364, 0.98347485, 0.9821652, 0.98127276, 0.9740408000000002, 0.9800033]\n",
      "[1, 2, 3, 4, 5, 6, 7, 8, 9, 10, 11, 12, 13, 14, 15, 16, 17, 18, 19, 20]\n"
     ]
    },
    {
     "data": {
      "image/png": "[encoded data removed]",
      "text/plain": [
       "<Figure size 432x288 with 1 Axes>"
      ]
     },
     "metadata": {
      "needs_background": "light"
     },
     "output_type": "display_data"
    }
   ],
   "source": [
    "AUC = val_his.iloc[4]\n",
    "y_val_AUC = []\n",
    "x_val_AUC = []\n",
    "for i in AUC:\n",
    "    y_val_AUC.append(i)\n",
    "y_val_AUC = y_val_AUC[1:]\n",
    "#print(y_val_AUC[0])\n",
    "y_val_AUC[0] = float(y_val_AUC[0][1:])\n",
    "#print(y_val_AUC[0])\n",
    "#print(y_val_AUC[19])\n",
    "y_val_AUC[19] = str(y_val_AUC[19])\n",
    "y_val_AUC[19] = float(y_val_AUC[19][:-1])\n",
    "print(y_val_AUC[19])\n",
    "for ii in range(21):\n",
    "    x_val_AUC.append(ii)\n",
    "x_val_AUC = x_val_AUC[1:]\n",
    "print(y_val_AUC)\n",
    "print(x_val_AUC)\n",
    "fig = plt.figure()\n",
    "ax = fig.add_subplot(1, 1, 1)\n",
    "ax.scatter(x_val_AUC,y_val_AUC)\n",
    "ax.plot(x_val_AUC,y_val_AUC)\n",
    "ax.set_xticks(np.arange(21))\n",
    "plt.title('Validation Data AUC Dependent on Epochs')\n",
    "plt.xlabel('Number of Epochs')\n",
    "plt.ylabel('Validation AUC')\n",
    "plt.savefig(\"goes_val_auc.png\", dpi=250, bbox_inches=\"tight\")"
   ]
  },
  {
   "cell_type": "markdown",
   "metadata": {},
   "source": [
    "plot a few of the examples that the neural network predicts a high probability of lightning and actual produce lightning, once you get a network trained."
   ]
  },
  {
   "cell_type": "code",
   "execution_count": 11,
   "metadata": {},
   "outputs": [
    {
     "data": {
      "text/plain": [
       "[<matplotlib.lines.Line2D at 0x2b076ab49950>]"
      ]
     },
     "execution_count": 11,
     "metadata": {},
     "output_type": "execute_result"
    },
    {
     "data": {
      "image/png": "[encoded data removed]",
      "text/plain": [
       "<Figure size 432x288 with 1 Axes>"
      ]
     },
     "metadata": {
      "needs_background": "light"
     },
     "output_type": "display_data"
    }
   ],
   "source": [
    "plt.plot(x_val_AUC, y_val_AUC, marker='o')"
   ]
  },
  {
   "cell_type": "code",
   "execution_count": 19,
   "metadata": {},
   "outputs": [],
   "source": [
    "from tensorflow.keras.models import load_model"
   ]
  },
  {
   "cell_type": "code",
   "execution_count": 20,
   "metadata": {},
   "outputs": [],
   "source": [
    "model = load_model(\"goes16_resnet_gpus_01.h5\")"
   ]
  },
  {
   "cell_type": "code",
   "execution_count": 21,
   "metadata": {},
   "outputs": [
    {
     "name": "stdout",
     "output_type": "stream",
     "text": [
      "Model: \"model_6\"\n",
      "__________________________________________________________________________________________________\n",
      "Layer (type)                    Output Shape         Param #     Connected to                     \n",
      "==================================================================================================\n",
      "scn_input (InputLayer)          [(None, 64, 64, 4)]  0                                            \n",
      "__________________________________________________________________________________________________\n",
      "conv2d_24 (Conv2D)              (None, 64, 64, 32)   1184        scn_input[0][0]                  \n",
      "__________________________________________________________________________________________________\n",
      "bn_res_00_a (BatchNormalization (None, 64, 64, 32)   128         conv2d_24[0][0]                  \n",
      "__________________________________________________________________________________________________\n",
      "res_activation_00_a (Activation (None, 64, 64, 32)   0           bn_res_00_a[0][0]                \n",
      "__________________________________________________________________________________________________\n",
      "res_conv_00_a (Conv2D)          (None, 64, 64, 32)   9248        res_activation_00_a[0][0]        \n",
      "__________________________________________________________________________________________________\n",
      "bn_res_00_b (BatchNormalization (None, 64, 64, 32)   128         res_conv_00_a[0][0]              \n",
      "__________________________________________________________________________________________________\n",
      "res_activation_00_b (Activation (None, 64, 64, 32)   0           bn_res_00_b[0][0]                \n",
      "__________________________________________________________________________________________________\n",
      "res_conv_00_b (Conv2D)          (None, 64, 64, 32)   9248        res_activation_00_b[0][0]        \n",
      "__________________________________________________________________________________________________\n",
      "add_24 (Add)                    (None, 64, 64, 32)   0           res_conv_00_b[0][0]              \n",
      "                                                                 conv2d_24[0][0]                  \n",
      "__________________________________________________________________________________________________\n",
      "pooling_00 (AveragePooling2D)   (None, 32, 32, 32)   0           add_24[0][0]                     \n",
      "__________________________________________________________________________________________________\n",
      "conv2d_25 (Conv2D)              (None, 32, 32, 64)   18496       pooling_00[0][0]                 \n",
      "__________________________________________________________________________________________________\n",
      "bn_res_01_a (BatchNormalization (None, 32, 32, 64)   256         conv2d_25[0][0]                  \n",
      "__________________________________________________________________________________________________\n",
      "res_activation_01_a (Activation (None, 32, 32, 64)   0           bn_res_01_a[0][0]                \n",
      "__________________________________________________________________________________________________\n",
      "res_conv_01_a (Conv2D)          (None, 32, 32, 64)   36928       res_activation_01_a[0][0]        \n",
      "__________________________________________________________________________________________________\n",
      "bn_res_01_b (BatchNormalization (None, 32, 32, 64)   256         res_conv_01_a[0][0]              \n",
      "__________________________________________________________________________________________________\n",
      "res_activation_01_b (Activation (None, 32, 32, 64)   0           bn_res_01_b[0][0]                \n",
      "__________________________________________________________________________________________________\n",
      "res_conv_01_b (Conv2D)          (None, 32, 32, 64)   36928       res_activation_01_b[0][0]        \n",
      "__________________________________________________________________________________________________\n",
      "add_25 (Add)                    (None, 32, 32, 64)   0           res_conv_01_b[0][0]              \n",
      "                                                                 conv2d_25[0][0]                  \n",
      "__________________________________________________________________________________________________\n",
      "pooling_01 (AveragePooling2D)   (None, 16, 16, 64)   0           add_25[0][0]                     \n",
      "__________________________________________________________________________________________________\n",
      "conv2d_26 (Conv2D)              (None, 16, 16, 128)  73856       pooling_01[0][0]                 \n",
      "__________________________________________________________________________________________________\n",
      "bn_res_02_a (BatchNormalization (None, 16, 16, 128)  512         conv2d_26[0][0]                  \n",
      "__________________________________________________________________________________________________\n",
      "res_activation_02_a (Activation (None, 16, 16, 128)  0           bn_res_02_a[0][0]                \n",
      "__________________________________________________________________________________________________\n",
      "res_conv_02_a (Conv2D)          (None, 16, 16, 128)  147584      res_activation_02_a[0][0]        \n",
      "__________________________________________________________________________________________________\n",
      "bn_res_02_b (BatchNormalization (None, 16, 16, 128)  512         res_conv_02_a[0][0]              \n",
      "__________________________________________________________________________________________________\n",
      "res_activation_02_b (Activation (None, 16, 16, 128)  0           bn_res_02_b[0][0]                \n",
      "__________________________________________________________________________________________________\n",
      "res_conv_02_b (Conv2D)          (None, 16, 16, 128)  147584      res_activation_02_b[0][0]        \n",
      "__________________________________________________________________________________________________\n",
      "add_26 (Add)                    (None, 16, 16, 128)  0           res_conv_02_b[0][0]              \n",
      "                                                                 conv2d_26[0][0]                  \n",
      "__________________________________________________________________________________________________\n",
      "pooling_02 (AveragePooling2D)   (None, 8, 8, 128)    0           add_26[0][0]                     \n",
      "__________________________________________________________________________________________________\n",
      "conv2d_27 (Conv2D)              (None, 8, 8, 256)    295168      pooling_02[0][0]                 \n",
      "__________________________________________________________________________________________________\n",
      "bn_res_03_a (BatchNormalization (None, 8, 8, 256)    1024        conv2d_27[0][0]                  \n",
      "__________________________________________________________________________________________________\n",
      "res_activation_03_a (Activation (None, 8, 8, 256)    0           bn_res_03_a[0][0]                \n",
      "__________________________________________________________________________________________________\n",
      "res_conv_03_a (Conv2D)          (None, 8, 8, 256)    590080      res_activation_03_a[0][0]        \n",
      "__________________________________________________________________________________________________\n",
      "bn_res_03_b (BatchNormalization (None, 8, 8, 256)    1024        res_conv_03_a[0][0]              \n",
      "__________________________________________________________________________________________________\n",
      "res_activation_03_b (Activation (None, 8, 8, 256)    0           bn_res_03_b[0][0]                \n",
      "__________________________________________________________________________________________________\n",
      "res_conv_03_b (Conv2D)          (None, 8, 8, 256)    590080      res_activation_03_b[0][0]        \n",
      "__________________________________________________________________________________________________\n",
      "add_27 (Add)                    (None, 8, 8, 256)    0           res_conv_03_b[0][0]              \n",
      "                                                                 conv2d_27[0][0]                  \n",
      "__________________________________________________________________________________________________\n",
      "pooling_03 (AveragePooling2D)   (None, 4, 4, 256)    0           add_27[0][0]                     \n",
      "__________________________________________________________________________________________________\n",
      "flatten (Flatten)               (None, 4096)         0           pooling_03[0][0]                 \n",
      "__________________________________________________________________________________________________\n",
      "dense_output (Dense)            (None, 1)            4097        flatten[0][0]                    \n",
      "__________________________________________________________________________________________________\n",
      "activation_output (Activation)  (None, 1)            0           dense_output[0][0]               \n",
      "==================================================================================================\n",
      "Total params: 1,964,321\n",
      "Trainable params: 1,962,401\n",
      "Non-trainable params: 1,920\n",
      "__________________________________________________________________________________________________\n"
     ]
    }
   ],
   "source": [
    "model.summary()"
   ]
  },
  {
   "cell_type": "code",
   "execution_count": null,
   "metadata": {},
   "outputs": [],
   "source": []
  }
 ],
 "metadata": {
  "kernelspec": {
   "display_name": "Python 3",
   "language": "python",
   "name": "python3"
  },
  "language_info": {
   "codemirror_mode": {
    "name": "ipython",
    "version": 3
   },
   "file_extension": ".py",
   "mimetype": "text/x-python",
   "name": "python",
   "nbconvert_exporter": "python",
   "pygments_lexer": "ipython3",
   "version": "3.7.5"
  }
 },
 "nbformat": 4,
 "nbformat_minor": 4
}
